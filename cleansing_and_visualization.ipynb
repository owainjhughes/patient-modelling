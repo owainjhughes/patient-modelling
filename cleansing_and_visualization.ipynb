 {
   "cell_type": "code",
   "execution_count": null,
   "metadata": {},
   "outputs": [],
   "source": [
    "\n",
# Task: 1 Data Cleaning 

import pandas as pd
import matplotlib.pyplot as plt
import seaborn as sns
from sklearn import preprocessing
import numpy as np
import plotly.express as px

# Loading the dataset from the CSV file

data_file = 'Dataset.csv'
df_patients = pd.read_csv(data_file)

# Displaying the first few rows to inspect the data

print("First 5 rows of the dataset:")
print(df_patients.head())

# Checking the shape (number of rows and columns)

print(f"Dataset Shape: {df_patients.shape}")

# Identifying and Handling Missing Values

# Checking missing values before replacement

print("Missing values in each column (before replacement):")
print(df_patients.isnull().sum())

# Replace '?' with NaN so missing values are properly recognized

df_patients.replace('?', pd.NA, inplace=True)

# Verifying missing values after replacement

print("Missing values in each column (after replacing '?'):")
print(df_patients.isnull().sum())

# Impute Missing Values Separately for Numeric and Categorical Columns

numeric_cols = df_patients.select_dtypes(include=['float64', 'int64']).columns
df_patients[numeric_cols] = df_patients[numeric_cols].fillna(df_patients[numeric_cols].mean())
for col in df_patients.select_dtypes(include=['object']).columns:
    df_patients[col] = df_patients[col].fillna(df_patients[col].mode()[0])
print("Missing values after imputation:")
print(df_patients.isnull().sum())


# Outlier Detection and Removal using IQR

# Only numeric columns for outlier detection

numeric_cols = df_patients.select_dtypes(include=['float64', 'int64']).columns
print("Numeric columns for outlier detection:", numeric_cols)

# Calculating the first (Q1) and third (Q3) quartiles
Q1 = df_patients[numeric_cols].quantile(0.25)
Q3 = df_patients[numeric_cols].quantile(0.75)
IQR = Q3 - Q1

# Removing rows that have any outliers (using 1.5 * IQR rule)

df_patients = df_patients[~((df_patients[numeric_cols] < (Q1 - 1.5 * IQR)) | 
                            (df_patients[numeric_cols] > (Q3 + 1.5 * IQR))).any(axis=1)]

# Checking the new shape after outlier removal

print(f"Shape after removing outliers: {df_patients.shape}")

# Normalizing the Features

numeric_cols = df_patients.select_dtypes(include=['int64', 'float64']).columns.tolist()


if 'index' in numeric_cols:
    numeric_cols.remove('index')
if 'ICU' in numeric_cols:
    numeric_cols.remove('ICU')
if 'SEX' in numeric_cols:
    numeric_cols.remove('SEX')
if 'CLASIFFICATION_FINAL' in numeric_cols:
    numeric_cols.remove('CLASIFFICATION_FINAL')
print("Numeric columns to normalize:", numeric_cols)

# Normalizing the selected numeric columns

df_patients[numeric_cols] = preprocessing.normalize(df_patients[numeric_cols])
print(df_patients[numeric_cols])

# Printing a few rows to check that normalization worked

print("Data after normalization:")
print(df_patients.head())

# Final Check: Print the final shape of the dataset

print(f"Final dataset shape after normalization: {df_patients.shape}")
df_patients.to_csv('cleaned_patients.csv', index=False)

# Verifying Data Types and Removing Irrelevant Columns
# Checking the data types

print("Data types before adjustment:")
print(df_patients.dtypes)


# Removing irrelevant columns (eg. index)

columns_to_remove = ['index']  # Add any other irrelevant columns to this list if needed.
df_patients.drop(columns=columns_to_remove, inplace=True)


print("Data types after adjustment:")
print(df_patients.dtypes)
print("Remaining columns:")
print(df_patients.columns)
  {
   "cell_type": "code",
   "execution_count": null,
   "metadata": {},
   "outputs": [],
   "source": [
    "\n",
    "# Task 2: Data Visualisation\n",
    "df_patients['ICU'] = pd.to_numeric(df_patients['ICU'], errors='coerce')\n",
    "df_patients['AGE'] = pd.to_numeric(df_patients['AGE'], errors='coerce')\n",
    "ICU_Cases = df_patients[df_patients['ICU'] == 2.0]\n",
    "\n",
    "def sampleData(patients_data, numeric_columns):\n",
    "    sample_df = patients_data[numeric_columns].sample(n=500, random_state=26)\n",
    "    return sample_df\n",
    "\n",
    "\n",
    "def countPlotDistribution(patients_data, x_axis):\n",
    "    plt.figure(figsize=(8, 6))\n",
    "    graph = sns.countplot(data=patients_data, x=x_axis, hue=x_axis, palette=\"coolwarm\")\n",
    "    total = len(patients_data)\n",
    "    for i in graph.patches:\n",
    "        percentage = f'{(i.get_height() / total) * 100:.2f}%'\n",
    "        graph.annotate(percentage, (i.get_x() + i.get_width() / 2, i.get_height()), ha='center', va='bottom')\n",
    "    plt.xticks(rotation=45)\n",
    "    plt.title('Distribution of '+x_axis)\n",
    "    plt.xlabel('ICU (Indicator)')\n",
    "    plt.ylabel('Count')\n",
    "    plt.legend()\n",
    "    plt.grid(True)\n",
    "    plt.show()\n",
    "\n",
    "def histPlot(ICU_Cases, x_axis, y_axis):\n",
    "    plt.figure(figsize=(10, 6))\n",
    "    mean = np.mean(ICU_Cases[x_axis])\n",
    "    median = np.median(ICU_Cases[x_axis])\n",
    "    # 10 bins was too little, 100 was too many, 50 was just right\n",
    "    sns.histplot(data=ICU_Cases, x=x_axis, bins = 50, kde = True, alpha = 0.8, multiple=\"stack\", stat=\"density\", palette=\"viridis\")\n",
    "    plt.title(y_axis+' vs.'+x_axis)\n",
    "    plt.xlabel(x_axis)\n",
    "    plt.ylabel(y_axis)\n",
    "    plt.axvline(mean, color=\"b\", linestyle=\"dashed\", label=\"Mean\")\n",
    "    plt.axvline(median, color=\"g\", linestyle=\"dashed\", label=\"Median\")\n",
    "    plt.legend()\n",
    "    plt.grid(True)\n",
    "    plt.show()\n",
    "    # df_patients.describe()\n",
    "    # df_patients.to_csv(\"cleaned_patients.csv\", index=False)\n",
    "\n",
    "def barPlot(patients_data):\n",
    "    ICU_Counts = patients_data.groupby('CLASIFFICATION_FINAL', as_index=False)['ICU'].sum()\n",
    "    avg_icu = ICU_Counts['ICU'].mean()\n",
    "    max_row = ICU_Counts.loc[ICU_Counts['ICU'].idxmax()]\n",
    "    total = len(patients_data)\n",
    "\n",
    "    plt.figure(figsize=(12, 8))\n",
    "    graph = sns.barplot(data=ICU_Counts, x=\"CLASIFFICATION_FINAL\", y=\"ICU\", palette=\"viridis\", ci=None)\n",
    "    for i in graph.patches:\n",
    "        percentage = (i.get_height() / ICU_Counts['ICU'].sum()) * 100\n",
    "        graph.annotate(f'{percentage:.2f}%', (i.get_x() + i.get_width() / 2, i.get_height()), ha='center', va='bottom')\n",
    "    #plt.annotate(f\"Highest: {max_row['ICU']}\", xy=(max_row.name, max_row['ICU']), xytext=(max_row.name, max_row['ICU'] + 5), arrowprops=dict(facecolor='black', arrowstyle='->'), fontsize=10)\n",
    "    plt.title('Count of ICU Admissions by classification')\n",
    "    plt.xlabel('Classification of Patient')\n",
    "    plt.ylabel('Number of ICU admissions')\n",
    "    plt.xticks(rotation=45)\n",
    "    plt.tight_layout()\n",
    "    plt.axhline(avg_icu, color='red', linestyle='--', label=f'Average ICU Admissions ({avg_icu:.2f})')\n",
    "    plt.legend()\n",
    "    #fig = px.bar(ICU_Counts, x=\"CLASIFFICATION_FINAL\", y=\"ICU\", title=\"ICU Admissions by Classification\", text=\"ICU\")\n",
    "    #fig.update_traces(textposition='outside')\n",
    "    #fig.show()\n",
    "    plt.show()\n",
    "\n",
    "def pairGrid(patients_data, numeric_columns):\n",
    "# Scatter Matrix\n",
    "    sample_df = sampleData(patients_data, numeric_columns)\n",
    "\n",
    "    graph = sns.PairGrid(sample_df, palette=\"coolwarm\")\n",
    "    #graph.map_upper(sns.scatterplot, color=\"blue\")\n",
    "    graph.map_upper(sns.regplot, scatter_kws={'alpha': 0.6}, line_kws={'color': 'red'})\n",
    "    graph.map_lower(sns.kdeplot, cmap='Greens')\n",
    "    graph.map_diag(sns.histplot, color=\"red\")#kde_kws={'color': 'red'})\n",
    "    for i, n in zip(*np.triu_indices_from(graph.axes, 1)):\n",
    "        correlation = sample_df.iloc[:, 1].corr(sample_df.iloc[:, n])\n",
    "        graph.axes[i, n].annotate(f'{correlation:.2f}', xy=(0.5, 0.5), ha='center', va='center')\n",
    "    plt.suptitle('Scatter Matrix with Pairwise Relationships', fontsize=16, fontweight='bold')\n",
    "    plt.show()\n",
    "\n",
    "def correlationMatrix(patients_data, numeric_columns):\n",
    "    correlation_matrix = patients_data[numeric_columns].corr()\n",
    "    plt.figure(figsize=(12,10))\n",
    "    sns.heatmap(correlation_matrix, annot=True, cmap=\"coolwarm\", linewidths=0.5, center=0)\n",
    "    plt.title(\"Correlation Matrix\")\n",
    "    plt.show()\n",
    "\n",
    "def boxPlot(patient_data, x_axis, y_axis):\n",
    "    plt.figure(figsize=(10,10))\n",
    "    sns.boxplot(data=patient_data, x=x_axis, y=y_axis, palette=\"coolwarm\")\n",
    "    plt.title(y_axis+'vs.'+x_axis)\n",
    "    plt.xlabel(x_axis)\n",
    "    plt.ylabel(y_axis)\n",
    "    plt.grid(True)\n",
    "    plt.show()\n",
    "\n",
    "def getNumericColumns(patient_data):\n",
    "    numeric_cols2 = df_patients.select_dtypes(include=['float64', 'int64']).columns\n",
    "    numeric_cols2 = [col for col in numeric_cols2 if df_patients[col].nunique() > 1]  \n",
    "    return numeric_cols2\n",
    "\n",
    "# Plot 1: Distribution of the target variable 'ICU'\n",
    "countPlotDistribution(df_patients, 'ICU')\n",
    "\n",
    "# Plot 2: Count of number of ICU cases against age.\n",
    "ICU_Cases = df_patients[df_patients['ICU'] == 2.0]\n",
    "histPlot(df_patients, 'AGE', 'ICU')\n",
    "\n",
    "# Plot 3: Count of ICU admissions versus classification\n",
    "barPlot(df_patients)\n",
    "\n",
    "# Plot 4:\n",
    "# Show the scatter matrix plot and the correlation matrices  \n",
    "numeric_columns = getNumericColumns(df_patients)\n",
    "pairGrid(df_patients, numeric_columns)\n",
    "correlationMatrix(df_patients, numeric_columns)\n",
    "\n",
    "# Other plots that may be useful\n",
    "# Plot 5: ICU CASE vs. SEX\n",
    "countPlotDistribution(ICU_Cases, 'SEX')\n",
    "\n",
    "# Plot 6: Medical Unit vs. Age\n",
    "boxPlot(df_patients, 'AGE', 'MEDICAL_UNIT')"
   ]
  }
 ],
 "metadata": {
  "kernelspec": {
   "display_name": "base",
   "language": "python",
   "name": "python3"
  },
  "language_info": {
   "codemirror_mode": {
    "name": "ipython",
    "version": 3
   },
   "file_extension": ".py",
   "mimetype": "text/x-python",
   "name": "python",
   "nbconvert_exporter": "python",
   "pygments_lexer": "ipython3",
   "version": "3.9.12"
  }
 },
 "nbformat": 4,
 "nbformat_minor": 2
}
